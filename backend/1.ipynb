{
 "cells": [
  {
   "cell_type": "code",
   "execution_count": null,
   "metadata": {},
   "outputs": [
    {
     "name": "stdout",
     "output_type": "stream",
     "text": [
      "Requirement already satisfied: pydantic-settings in c:\\users\\subha\\anaconda3\\lib\\site-packages (2.6.1)\n",
      "Requirement already satisfied: pydantic>=2.7.0 in c:\\users\\subha\\anaconda3\\lib\\site-packages (from pydantic-settings) (2.8.2)\n",
      "Requirement already satisfied: python-dotenv>=0.21.0 in c:\\users\\subha\\anaconda3\\lib\\site-packages (from pydantic-settings) (0.21.0)\n",
      "Requirement already satisfied: annotated-types>=0.4.0 in c:\\users\\subha\\anaconda3\\lib\\site-packages (from pydantic>=2.7.0->pydantic-settings) (0.6.0)\n",
      "Requirement already satisfied: pydantic-core==2.20.1 in c:\\users\\subha\\anaconda3\\lib\\site-packages (from pydantic>=2.7.0->pydantic-settings) (2.20.1)\n",
      "Requirement already satisfied: typing-extensions>=4.6.1 in c:\\users\\subha\\anaconda3\\lib\\site-packages (from pydantic>=2.7.0->pydantic-settings) (4.11.0)\n",
      "Note: you may need to restart the kernel to use updated packages.\n"
     ]
    }
   ],
   "source": []
  }
 ],
 "metadata": {
  "kernelspec": {
   "display_name": "base",
   "language": "python",
   "name": "python3"
  },
  "language_info": {
   "codemirror_mode": {
    "name": "ipython",
    "version": 3
   },
   "file_extension": ".py",
   "mimetype": "text/x-python",
   "name": "python",
   "nbconvert_exporter": "python",
   "pygments_lexer": "ipython3",
   "version": "3.12.7"
  }
 },
 "nbformat": 4,
 "nbformat_minor": 2
}
